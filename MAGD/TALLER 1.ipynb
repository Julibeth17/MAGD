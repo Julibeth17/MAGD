{
 "cells": [
  {
   "cell_type": "code",
   "execution_count": 8,
   "id": "e5207bc7-9dd3-4e5d-aa12-b9aa2f11b998",
   "metadata": {},
   "outputs": [
    {
     "name": "stdout",
     "output_type": "stream",
     "text": [
      "Probabilidad de que el pasajero 100 se siente en su asiento: 0.4998\n"
     ]
    }
   ],
   "source": [
    "#punto 1 Asignación de asientos en un avión de forma peculiar\n",
    "import random\n",
    "\n",
    "def simular_embarque():\n",
    "    asientos = [False] * 100\n",
    "    \n",
    "    primer_pasajero_asiento = random.randint(0, 99)\n",
    "    asientos[primer_pasajero_asiento] = True \n",
    "    \n",
    "    for i in range(1, 99):\n",
    "        if asientos[i]:  \n",
    "            while True:\n",
    "                nuevo_asiento = random.randint(0, 99)\n",
    "                if not asientos[nuevo_asiento]:  \n",
    "                    asientos[nuevo_asiento] = True\n",
    "                    break\n",
    "        else:\n",
    "            asientos[i] = True \n",
    "    \n",
    "    \n",
    "    if not asientos[99]:  \n",
    "        asientos[99] = True  \n",
    "        return True  \n",
    "    else:\n",
    "        return False \n",
    "\n",
    "def calcular_probabilidad(iteraciones):\n",
    "    exito = 0\n",
    "    for _ in range(iteraciones):\n",
    "        if simular_embarque():\n",
    "            exito += 1\n",
    "    return exito / iteraciones\n",
    "\n",
    "iteraciones = 100000\n",
    "probabilidad = calcular_probabilidad(iteraciones)\n",
    "\n",
    "print(f\"Probabilidad de que el pasajero 100 se siente en su asiento: {probabilidad:.4f}\")\n"
   ]
  },
  {
   "cell_type": "code",
   "execution_count": 11,
   "id": "a59a1d99-7208-4687-b888-86919191d4ab",
   "metadata": {},
   "outputs": [
    {
     "name": "stdout",
     "output_type": "stream",
     "text": [
      "Estimación de π utilizando 10000000 puntos: 3.140662\n"
     ]
    }
   ],
   "source": [
    "#Punto 2 Estimación de π\\piπ mediante el método de Monte Carlo\n",
    "import random\n",
    "\n",
    "def estimar_pi(num_puntos):\n",
    "    puntos_dentro_del_circulo = 0\n",
    "    \n",
    "    for _ in range(num_puntos):\n",
    "        x = random.uniform(-0.5, 0.5)\n",
    "        y = random.uniform(-0.5, 0.5)\n",
    "        \n",
    "        if x**2 + y**2 <= 0.25:  # radio^2 = 0.5^2 = 0.25\n",
    "            puntos_dentro_del_circulo += 1\n",
    "    \n",
    "    pi_estimado = 4 * puntos_dentro_del_circulo / num_puntos\n",
    "    return pi_estimado\n",
    "\n",
    "num_puntos = 10000000\n",
    "\n",
    "pi_aproximado = estimar_pi(num_puntos)\n",
    "\n",
    "print(f\"Estimación de π utilizando {num_puntos} puntos: {pi_aproximado}\")"
   ]
  }
 ],
 "metadata": {
  "kernelspec": {
   "display_name": "Python 3 (ipykernel)",
   "language": "python",
   "name": "python3"
  },
  "language_info": {
   "codemirror_mode": {
    "name": "ipython",
    "version": 3
   },
   "file_extension": ".py",
   "mimetype": "text/x-python",
   "name": "python",
   "nbconvert_exporter": "python",
   "pygments_lexer": "ipython3",
   "version": "3.12.7"
  }
 },
 "nbformat": 4,
 "nbformat_minor": 5
}
